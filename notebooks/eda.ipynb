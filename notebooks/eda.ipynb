{
 "cells": [
  {
   "cell_type": "code",
   "execution_count": null,
   "metadata": {},
   "outputs": [],
   "source": [
    "# Load the data\n",
    "from src.eda import load_data, perform_eda\n",
    "data = load_data('data/data.csv')\n",
    "\n",
    "# Perform EDA\n",
    "perform_eda(data)\n",
    "\n",
    "# Feature Engineering\n",
    "from src.feature_engineering import create_aggregate_features, encode_categorical, scale_numeric\n",
    "data = create_aggregate_features(data)\n",
    "data = encode_categorical(data)\n",
    "data = scale_numeric(data)\n",
    "\n",
    "# Train and Evaluate Model\n",
    "from src.model import split_data, train_model, evaluate_model, save_model\n",
    "X_train, X_test, y_train, y_test = split_data(data, 'FraudResult')\n",
    "model = train_model(X_train, y_train)\n",
    "evaluate_model(model, X_test, y_test)\n",
    "save_model(model, 'models/model.pkl')\n"
   ]
  }
 ],
 "metadata": {
  "language_info": {
   "name": "python"
  }
 },
 "nbformat": 4,
 "nbformat_minor": 2
}
